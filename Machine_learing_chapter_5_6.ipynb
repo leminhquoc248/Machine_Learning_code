{
  "nbformat": 4,
  "nbformat_minor": 0,
  "metadata": {
    "colab": {
      "name": "Machine_learing_chapter_5-6",
      "provenance": [],
      "collapsed_sections": [],
      "authorship_tag": "ABX9TyO5J0TfScJAGyyDIcgfwcvb",
      "include_colab_link": true
    },
    "kernelspec": {
      "name": "python3",
      "display_name": "Python 3"
    },
    "language_info": {
      "name": "python"
    }
  },
  "cells": [
    {
      "cell_type": "markdown",
      "metadata": {
        "id": "view-in-github",
        "colab_type": "text"
      },
      "source": [
        "<a href=\"https://colab.research.google.com/github/leminhquoc248/Machine_Learning_code/blob/main/Machine_learing_chapter_5_6.ipynb\" target=\"_parent\"><img src=\"https://colab.research.google.com/assets/colab-badge.svg\" alt=\"Open In Colab\"/></a>"
      ]
    },
    {
      "cell_type": "code",
      "execution_count": null,
      "metadata": {
        "colab": {
          "base_uri": "https://localhost:8080/"
        },
        "id": "ESciwFegeLnT",
        "outputId": "94b0c19e-e55f-4435-c534-1f47d06c3ab5"
      },
      "outputs": [
        {
          "output_type": "execute_result",
          "data": {
            "text/plain": [
              "array([[0, 0, 1],\n",
              "       [1, 0, 0],\n",
              "       [0, 0, 1],\n",
              "       [0, 1, 0],\n",
              "       [0, 0, 1]])"
            ]
          },
          "metadata": {},
          "execution_count": 1
        }
      ],
      "source": [
        "# tai thu vien\n",
        "import numpy as np\n",
        "from sklearn.preprocessing import LabelBinarizer, MultiLabelBinarizer\n",
        "# tao dac diem\n",
        "feature = np.array([[\"Texas\"],\n",
        "[\"California\"],\n",
        "[\"Texas\"],\n",
        "[\"Delaware\"],\n",
        "[\"Texas\"]])\n",
        "# tao bo ma hoa 1 diem noi bat\n",
        "one_hot = LabelBinarizer()\n",
        "# ma hoa\n",
        "one_hot.fit_transform(feature)"
      ]
    },
    {
      "cell_type": "code",
      "source": [
        "# xem cac lop dd\n",
        "one_hot.classes_"
      ],
      "metadata": {
        "colab": {
          "base_uri": "https://localhost:8080/"
        },
        "id": "4fO8zsjReYFM",
        "outputId": "cc73e444-9760-4a79-9d58-32d98f7137a4"
      },
      "execution_count": null,
      "outputs": [
        {
          "output_type": "execute_result",
          "data": {
            "text/plain": [
              "array(['California', 'Delaware', 'Texas'], dtype='<U10')"
            ]
          },
          "metadata": {},
          "execution_count": 2
        }
      ]
    },
    {
      "cell_type": "code",
      "source": [
        "# dao ma hoa\n",
        "one_hot.inverse_transform(one_hot.transform(feature))"
      ],
      "metadata": {
        "colab": {
          "base_uri": "https://localhost:8080/"
        },
        "id": "zaO8nlSHebyV",
        "outputId": "fb090ffe-2266-4cec-cd4a-678055be7c55"
      },
      "execution_count": null,
      "outputs": [
        {
          "output_type": "execute_result",
          "data": {
            "text/plain": [
              "array(['Texas', 'California', 'Texas', 'Delaware', 'Texas'], dtype='<U10')"
            ]
          },
          "metadata": {},
          "execution_count": 3
        }
      ]
    },
    {
      "cell_type": "code",
      "source": [
        "# thu vien\n",
        "import pandas as pd\n",
        "#tao bien gia tu dd\n",
        "pd.get_dummies(feature[:,0])"
      ],
      "metadata": {
        "colab": {
          "base_uri": "https://localhost:8080/",
          "height": 206
        },
        "id": "n3eNNH7MeeFK",
        "outputId": "ad8d1019-e9ec-4121-9a25-6ac139370275"
      },
      "execution_count": null,
      "outputs": [
        {
          "output_type": "execute_result",
          "data": {
            "text/plain": [
              "   California  Delaware  Texas\n",
              "0           0         0      1\n",
              "1           1         0      0\n",
              "2           0         0      1\n",
              "3           0         1      0\n",
              "4           0         0      1"
            ],
            "text/html": [
              "\n",
              "  <div id=\"df-8dab7abf-8e6c-41f5-b042-2343fdd77966\">\n",
              "    <div class=\"colab-df-container\">\n",
              "      <div>\n",
              "<style scoped>\n",
              "    .dataframe tbody tr th:only-of-type {\n",
              "        vertical-align: middle;\n",
              "    }\n",
              "\n",
              "    .dataframe tbody tr th {\n",
              "        vertical-align: top;\n",
              "    }\n",
              "\n",
              "    .dataframe thead th {\n",
              "        text-align: right;\n",
              "    }\n",
              "</style>\n",
              "<table border=\"1\" class=\"dataframe\">\n",
              "  <thead>\n",
              "    <tr style=\"text-align: right;\">\n",
              "      <th></th>\n",
              "      <th>California</th>\n",
              "      <th>Delaware</th>\n",
              "      <th>Texas</th>\n",
              "    </tr>\n",
              "  </thead>\n",
              "  <tbody>\n",
              "    <tr>\n",
              "      <th>0</th>\n",
              "      <td>0</td>\n",
              "      <td>0</td>\n",
              "      <td>1</td>\n",
              "    </tr>\n",
              "    <tr>\n",
              "      <th>1</th>\n",
              "      <td>1</td>\n",
              "      <td>0</td>\n",
              "      <td>0</td>\n",
              "    </tr>\n",
              "    <tr>\n",
              "      <th>2</th>\n",
              "      <td>0</td>\n",
              "      <td>0</td>\n",
              "      <td>1</td>\n",
              "    </tr>\n",
              "    <tr>\n",
              "      <th>3</th>\n",
              "      <td>0</td>\n",
              "      <td>1</td>\n",
              "      <td>0</td>\n",
              "    </tr>\n",
              "    <tr>\n",
              "      <th>4</th>\n",
              "      <td>0</td>\n",
              "      <td>0</td>\n",
              "      <td>1</td>\n",
              "    </tr>\n",
              "  </tbody>\n",
              "</table>\n",
              "</div>\n",
              "      <button class=\"colab-df-convert\" onclick=\"convertToInteractive('df-8dab7abf-8e6c-41f5-b042-2343fdd77966')\"\n",
              "              title=\"Convert this dataframe to an interactive table.\"\n",
              "              style=\"display:none;\">\n",
              "        \n",
              "  <svg xmlns=\"http://www.w3.org/2000/svg\" height=\"24px\"viewBox=\"0 0 24 24\"\n",
              "       width=\"24px\">\n",
              "    <path d=\"M0 0h24v24H0V0z\" fill=\"none\"/>\n",
              "    <path d=\"M18.56 5.44l.94 2.06.94-2.06 2.06-.94-2.06-.94-.94-2.06-.94 2.06-2.06.94zm-11 1L8.5 8.5l.94-2.06 2.06-.94-2.06-.94L8.5 2.5l-.94 2.06-2.06.94zm10 10l.94 2.06.94-2.06 2.06-.94-2.06-.94-.94-2.06-.94 2.06-2.06.94z\"/><path d=\"M17.41 7.96l-1.37-1.37c-.4-.4-.92-.59-1.43-.59-.52 0-1.04.2-1.43.59L10.3 9.45l-7.72 7.72c-.78.78-.78 2.05 0 2.83L4 21.41c.39.39.9.59 1.41.59.51 0 1.02-.2 1.41-.59l7.78-7.78 2.81-2.81c.8-.78.8-2.07 0-2.86zM5.41 20L4 18.59l7.72-7.72 1.47 1.35L5.41 20z\"/>\n",
              "  </svg>\n",
              "      </button>\n",
              "      \n",
              "  <style>\n",
              "    .colab-df-container {\n",
              "      display:flex;\n",
              "      flex-wrap:wrap;\n",
              "      gap: 12px;\n",
              "    }\n",
              "\n",
              "    .colab-df-convert {\n",
              "      background-color: #E8F0FE;\n",
              "      border: none;\n",
              "      border-radius: 50%;\n",
              "      cursor: pointer;\n",
              "      display: none;\n",
              "      fill: #1967D2;\n",
              "      height: 32px;\n",
              "      padding: 0 0 0 0;\n",
              "      width: 32px;\n",
              "    }\n",
              "\n",
              "    .colab-df-convert:hover {\n",
              "      background-color: #E2EBFA;\n",
              "      box-shadow: 0px 1px 2px rgba(60, 64, 67, 0.3), 0px 1px 3px 1px rgba(60, 64, 67, 0.15);\n",
              "      fill: #174EA6;\n",
              "    }\n",
              "\n",
              "    [theme=dark] .colab-df-convert {\n",
              "      background-color: #3B4455;\n",
              "      fill: #D2E3FC;\n",
              "    }\n",
              "\n",
              "    [theme=dark] .colab-df-convert:hover {\n",
              "      background-color: #434B5C;\n",
              "      box-shadow: 0px 1px 3px 1px rgba(0, 0, 0, 0.15);\n",
              "      filter: drop-shadow(0px 1px 2px rgba(0, 0, 0, 0.3));\n",
              "      fill: #FFFFFF;\n",
              "    }\n",
              "  </style>\n",
              "\n",
              "      <script>\n",
              "        const buttonEl =\n",
              "          document.querySelector('#df-8dab7abf-8e6c-41f5-b042-2343fdd77966 button.colab-df-convert');\n",
              "        buttonEl.style.display =\n",
              "          google.colab.kernel.accessAllowed ? 'block' : 'none';\n",
              "\n",
              "        async function convertToInteractive(key) {\n",
              "          const element = document.querySelector('#df-8dab7abf-8e6c-41f5-b042-2343fdd77966');\n",
              "          const dataTable =\n",
              "            await google.colab.kernel.invokeFunction('convertToInteractive',\n",
              "                                                     [key], {});\n",
              "          if (!dataTable) return;\n",
              "\n",
              "          const docLinkHtml = 'Like what you see? Visit the ' +\n",
              "            '<a target=\"_blank\" href=https://colab.research.google.com/notebooks/data_table.ipynb>data table notebook</a>'\n",
              "            + ' to learn more about interactive tables.';\n",
              "          element.innerHTML = '';\n",
              "          dataTable['output_type'] = 'display_data';\n",
              "          await google.colab.output.renderOutput(dataTable, element);\n",
              "          const docLink = document.createElement('div');\n",
              "          docLink.innerHTML = docLinkHtml;\n",
              "          element.appendChild(docLink);\n",
              "        }\n",
              "      </script>\n",
              "    </div>\n",
              "  </div>\n",
              "  "
            ]
          },
          "metadata": {},
          "execution_count": 4
        }
      ]
    },
    {
      "cell_type": "code",
      "source": [
        "# tao tinh nang da lop\n",
        "multiclass_feature = [(\"Texas\", \"Florida\"),\n",
        "(\"California\", \"Alabama\"),\n",
        "(\"Texas\", \"Florida\"),\n",
        "(\"Delware\", \"Florida\"),\n",
        "(\"Texas\", \"Alabama\")]\n",
        "# ma hoa\n",
        "one_hot_multiclass = MultiLabelBinarizer()\n",
        "\n",
        "one_hot_multiclass.fit_transform(multiclass_feature)"
      ],
      "metadata": {
        "colab": {
          "base_uri": "https://localhost:8080/"
        },
        "id": "yMQ7b2v8eghN",
        "outputId": "d6f34c47-a6a7-418f-9d7e-130beaec47d9"
      },
      "execution_count": null,
      "outputs": [
        {
          "output_type": "execute_result",
          "data": {
            "text/plain": [
              "array([[0, 0, 0, 1, 1],\n",
              "       [1, 1, 0, 0, 0],\n",
              "       [0, 0, 0, 1, 1],\n",
              "       [0, 0, 1, 1, 0],\n",
              "       [1, 0, 0, 0, 1]])"
            ]
          },
          "metadata": {},
          "execution_count": 5
        }
      ]
    },
    {
      "cell_type": "code",
      "source": [
        "# View classes\n",
        "one_hot_multiclass.classes_"
      ],
      "metadata": {
        "colab": {
          "base_uri": "https://localhost:8080/"
        },
        "id": "pvWNxCwZej1N",
        "outputId": "74bfdd63-661f-4bbe-f5c3-47e4e7edcb33"
      },
      "execution_count": null,
      "outputs": [
        {
          "output_type": "execute_result",
          "data": {
            "text/plain": [
              "array(['Alabama', 'California', 'Delware', 'Florida', 'Texas'],\n",
              "      dtype=object)"
            ]
          },
          "metadata": {},
          "execution_count": 6
        }
      ]
    },
    {
      "cell_type": "code",
      "source": [
        "# Load library\n",
        "import pandas as pd\n",
        "# Create features\n",
        "dataframe = pd.DataFrame({\"Score\": [\"Low\", \"Low\", \"Medium\", \"Medium\", \"High\"]})"
      ],
      "metadata": {
        "id": "4LWlzesuemRV"
      },
      "execution_count": null,
      "outputs": []
    },
    {
      "cell_type": "code",
      "source": [
        "# Create mapper\n",
        "scale_mapper = {\"Low\":1,\n",
        "\"Medium\":2,\n",
        "\"High\":3}\n",
        "# Replace feature values with scale\n",
        "dataframe[\"Score\"].replace(scale_mapper)"
      ],
      "metadata": {
        "colab": {
          "base_uri": "https://localhost:8080/"
        },
        "id": "cjm0kDFxettm",
        "outputId": "a13a8a2b-47c2-4caf-d091-ed22bead14fe"
      },
      "execution_count": null,
      "outputs": [
        {
          "output_type": "execute_result",
          "data": {
            "text/plain": [
              "0    1\n",
              "1    1\n",
              "2    2\n",
              "3    2\n",
              "4    3\n",
              "Name: Score, dtype: int64"
            ]
          },
          "metadata": {},
          "execution_count": 8
        }
      ]
    },
    {
      "cell_type": "code",
      "source": [
        "dataframe = pd.DataFrame({\"Score\": [\"Low\",\n",
        "\"Low\",\n",
        "\"Medium\",\n",
        "\"Medium\",\n",
        "\"High\",\n",
        "\"Barely More Than Medium\"]})\n",
        "scale_mapper = {\"Low\":1,\n",
        "\"Medium\":2,\n",
        "\"Barely More Than Medium\": 3,\n",
        "\"High\":4}"
      ],
      "metadata": {
        "id": "0YnY-Z7YeuYj"
      },
      "execution_count": null,
      "outputs": []
    },
    {
      "cell_type": "code",
      "source": [
        "scale_mapper = {\"Low\":1,\n",
        "\"Medium\":2,\n",
        "\"Barely More Than Medium\": 2.1,\n",
        "\"High\":3}\n",
        "dataframe[\"Score\"].replace(scale_mapper)\n"
      ],
      "metadata": {
        "colab": {
          "base_uri": "https://localhost:8080/"
        },
        "id": "8XAbjzEde0mE",
        "outputId": "436f8a58-ae08-499b-d31a-3471ab840ef5"
      },
      "execution_count": null,
      "outputs": [
        {
          "output_type": "execute_result",
          "data": {
            "text/plain": [
              "0    1.0\n",
              "1    1.0\n",
              "2    2.0\n",
              "3    2.0\n",
              "4    3.0\n",
              "5    2.1\n",
              "Name: Score, dtype: float64"
            ]
          },
          "metadata": {},
          "execution_count": 10
        }
      ]
    },
    {
      "cell_type": "code",
      "source": [
        "# Import library\n",
        "from sklearn.feature_extraction import DictVectorizer\n",
        "# Create dictionary\n",
        "data_dict = [{\"Red\": 2, \"Blue\": 4},\n",
        "{\"Red\": 4, \"Blue\": 3},\n",
        "{\"Red\": 1, \"Yellow\": 2},\n",
        "{\"Red\": 2, \"Yellow\": 2}]"
      ],
      "metadata": {
        "id": "0Sc0eos_e4n7"
      },
      "execution_count": null,
      "outputs": []
    },
    {
      "cell_type": "code",
      "source": [
        "dictvectorizer = DictVectorizer(sparse=False)\n",
        "# Convert dictionary to feature matrix\n",
        "features = dictvectorizer.fit_transform(data_dict)\n",
        "# View feature matrix\n",
        "features"
      ],
      "metadata": {
        "colab": {
          "base_uri": "https://localhost:8080/"
        },
        "id": "wrfB90pWe7mL",
        "outputId": "6508a285-e971-4380-bc9e-ab9cf24031c3"
      },
      "execution_count": null,
      "outputs": [
        {
          "output_type": "execute_result",
          "data": {
            "text/plain": [
              "array([[4., 2., 0.],\n",
              "       [3., 4., 0.],\n",
              "       [0., 1., 2.],\n",
              "       [0., 2., 2.]])"
            ]
          },
          "metadata": {},
          "execution_count": 12
        }
      ]
    },
    {
      "cell_type": "code",
      "source": [
        "# Get feature names\n",
        "feature_names = dictvectorizer.get_feature_names()\n",
        "# View feature names\n",
        "feature_names"
      ],
      "metadata": {
        "colab": {
          "base_uri": "https://localhost:8080/"
        },
        "id": "stA20Sw_e-UW",
        "outputId": "826cb9f8-a62d-42c7-f9bb-c798e81743a3"
      },
      "execution_count": null,
      "outputs": [
        {
          "output_type": "stream",
          "name": "stderr",
          "text": [
            "/usr/local/lib/python3.7/dist-packages/sklearn/utils/deprecation.py:87: FutureWarning: Function get_feature_names is deprecated; get_feature_names is deprecated in 1.0 and will be removed in 1.2. Please use get_feature_names_out instead.\n",
            "  warnings.warn(msg, category=FutureWarning)\n"
          ]
        },
        {
          "output_type": "execute_result",
          "data": {
            "text/plain": [
              "['Blue', 'Red', 'Yellow']"
            ]
          },
          "metadata": {},
          "execution_count": 13
        }
      ]
    },
    {
      "cell_type": "code",
      "source": [
        "# Import library\n",
        "import pandas as pd\n",
        "# Create dataframe from features\n",
        "pd.DataFrame(features, columns=feature_names)"
      ],
      "metadata": {
        "colab": {
          "base_uri": "https://localhost:8080/",
          "height": 175
        },
        "id": "oW0u1l5zfBE7",
        "outputId": "12b82610-94a1-49d7-89ed-968ffba15b81"
      },
      "execution_count": null,
      "outputs": [
        {
          "output_type": "execute_result",
          "data": {
            "text/plain": [
              "   Blue  Red  Yellow\n",
              "0   4.0  2.0     0.0\n",
              "1   3.0  4.0     0.0\n",
              "2   0.0  1.0     2.0\n",
              "3   0.0  2.0     2.0"
            ],
            "text/html": [
              "\n",
              "  <div id=\"df-c24a090e-eaa0-49dc-92e3-87141f516825\">\n",
              "    <div class=\"colab-df-container\">\n",
              "      <div>\n",
              "<style scoped>\n",
              "    .dataframe tbody tr th:only-of-type {\n",
              "        vertical-align: middle;\n",
              "    }\n",
              "\n",
              "    .dataframe tbody tr th {\n",
              "        vertical-align: top;\n",
              "    }\n",
              "\n",
              "    .dataframe thead th {\n",
              "        text-align: right;\n",
              "    }\n",
              "</style>\n",
              "<table border=\"1\" class=\"dataframe\">\n",
              "  <thead>\n",
              "    <tr style=\"text-align: right;\">\n",
              "      <th></th>\n",
              "      <th>Blue</th>\n",
              "      <th>Red</th>\n",
              "      <th>Yellow</th>\n",
              "    </tr>\n",
              "  </thead>\n",
              "  <tbody>\n",
              "    <tr>\n",
              "      <th>0</th>\n",
              "      <td>4.0</td>\n",
              "      <td>2.0</td>\n",
              "      <td>0.0</td>\n",
              "    </tr>\n",
              "    <tr>\n",
              "      <th>1</th>\n",
              "      <td>3.0</td>\n",
              "      <td>4.0</td>\n",
              "      <td>0.0</td>\n",
              "    </tr>\n",
              "    <tr>\n",
              "      <th>2</th>\n",
              "      <td>0.0</td>\n",
              "      <td>1.0</td>\n",
              "      <td>2.0</td>\n",
              "    </tr>\n",
              "    <tr>\n",
              "      <th>3</th>\n",
              "      <td>0.0</td>\n",
              "      <td>2.0</td>\n",
              "      <td>2.0</td>\n",
              "    </tr>\n",
              "  </tbody>\n",
              "</table>\n",
              "</div>\n",
              "      <button class=\"colab-df-convert\" onclick=\"convertToInteractive('df-c24a090e-eaa0-49dc-92e3-87141f516825')\"\n",
              "              title=\"Convert this dataframe to an interactive table.\"\n",
              "              style=\"display:none;\">\n",
              "        \n",
              "  <svg xmlns=\"http://www.w3.org/2000/svg\" height=\"24px\"viewBox=\"0 0 24 24\"\n",
              "       width=\"24px\">\n",
              "    <path d=\"M0 0h24v24H0V0z\" fill=\"none\"/>\n",
              "    <path d=\"M18.56 5.44l.94 2.06.94-2.06 2.06-.94-2.06-.94-.94-2.06-.94 2.06-2.06.94zm-11 1L8.5 8.5l.94-2.06 2.06-.94-2.06-.94L8.5 2.5l-.94 2.06-2.06.94zm10 10l.94 2.06.94-2.06 2.06-.94-2.06-.94-.94-2.06-.94 2.06-2.06.94z\"/><path d=\"M17.41 7.96l-1.37-1.37c-.4-.4-.92-.59-1.43-.59-.52 0-1.04.2-1.43.59L10.3 9.45l-7.72 7.72c-.78.78-.78 2.05 0 2.83L4 21.41c.39.39.9.59 1.41.59.51 0 1.02-.2 1.41-.59l7.78-7.78 2.81-2.81c.8-.78.8-2.07 0-2.86zM5.41 20L4 18.59l7.72-7.72 1.47 1.35L5.41 20z\"/>\n",
              "  </svg>\n",
              "      </button>\n",
              "      \n",
              "  <style>\n",
              "    .colab-df-container {\n",
              "      display:flex;\n",
              "      flex-wrap:wrap;\n",
              "      gap: 12px;\n",
              "    }\n",
              "\n",
              "    .colab-df-convert {\n",
              "      background-color: #E8F0FE;\n",
              "      border: none;\n",
              "      border-radius: 50%;\n",
              "      cursor: pointer;\n",
              "      display: none;\n",
              "      fill: #1967D2;\n",
              "      height: 32px;\n",
              "      padding: 0 0 0 0;\n",
              "      width: 32px;\n",
              "    }\n",
              "\n",
              "    .colab-df-convert:hover {\n",
              "      background-color: #E2EBFA;\n",
              "      box-shadow: 0px 1px 2px rgba(60, 64, 67, 0.3), 0px 1px 3px 1px rgba(60, 64, 67, 0.15);\n",
              "      fill: #174EA6;\n",
              "    }\n",
              "\n",
              "    [theme=dark] .colab-df-convert {\n",
              "      background-color: #3B4455;\n",
              "      fill: #D2E3FC;\n",
              "    }\n",
              "\n",
              "    [theme=dark] .colab-df-convert:hover {\n",
              "      background-color: #434B5C;\n",
              "      box-shadow: 0px 1px 3px 1px rgba(0, 0, 0, 0.15);\n",
              "      filter: drop-shadow(0px 1px 2px rgba(0, 0, 0, 0.3));\n",
              "      fill: #FFFFFF;\n",
              "    }\n",
              "  </style>\n",
              "\n",
              "      <script>\n",
              "        const buttonEl =\n",
              "          document.querySelector('#df-c24a090e-eaa0-49dc-92e3-87141f516825 button.colab-df-convert');\n",
              "        buttonEl.style.display =\n",
              "          google.colab.kernel.accessAllowed ? 'block' : 'none';\n",
              "\n",
              "        async function convertToInteractive(key) {\n",
              "          const element = document.querySelector('#df-c24a090e-eaa0-49dc-92e3-87141f516825');\n",
              "          const dataTable =\n",
              "            await google.colab.kernel.invokeFunction('convertToInteractive',\n",
              "                                                     [key], {});\n",
              "          if (!dataTable) return;\n",
              "\n",
              "          const docLinkHtml = 'Like what you see? Visit the ' +\n",
              "            '<a target=\"_blank\" href=https://colab.research.google.com/notebooks/data_table.ipynb>data table notebook</a>'\n",
              "            + ' to learn more about interactive tables.';\n",
              "          element.innerHTML = '';\n",
              "          dataTable['output_type'] = 'display_data';\n",
              "          await google.colab.output.renderOutput(dataTable, element);\n",
              "          const docLink = document.createElement('div');\n",
              "          docLink.innerHTML = docLinkHtml;\n",
              "          element.appendChild(docLink);\n",
              "        }\n",
              "      </script>\n",
              "    </div>\n",
              "  </div>\n",
              "  "
            ]
          },
          "metadata": {},
          "execution_count": 14
        }
      ]
    },
    {
      "cell_type": "code",
      "source": [
        "# Create word counts dictionaries for four documents\n",
        "doc_1_word_count = {\"Red\": 2, \"Blue\": 4}\n",
        "doc_2_word_count = {\"Red\": 4, \"Blue\": 3}\n",
        "doc_3_word_count = {\"Red\": 1, \"Yellow\": 2}\n",
        "doc_4_word_count = {\"Red\": 2, \"Yellow\": 2}\n",
        "# Create list\n",
        "doc_word_counts = [doc_1_word_count,\n",
        "doc_2_word_count,\n",
        "doc_3_word_count,\n",
        "doc_4_word_count]\n",
        "# Convert list of word count dictionaries into feature matrix\n",
        "dictvectorizer.fit_transform(doc_word_counts)"
      ],
      "metadata": {
        "colab": {
          "base_uri": "https://localhost:8080/"
        },
        "id": "NHJFOWwjfH8b",
        "outputId": "0b964287-3132-4c5c-87df-8ac48793b7bb"
      },
      "execution_count": null,
      "outputs": [
        {
          "output_type": "execute_result",
          "data": {
            "text/plain": [
              "array([[4., 2., 0.],\n",
              "       [3., 4., 0.],\n",
              "       [0., 1., 2.],\n",
              "       [0., 2., 2.]])"
            ]
          },
          "metadata": {},
          "execution_count": 15
        }
      ]
    },
    {
      "cell_type": "code",
      "source": [
        "# Load libraries\n",
        "import numpy as np\n",
        "from sklearn.neighbors import KNeighborsClassifier\n",
        "# Create feature matrix with categorical feature\n",
        "X = np.array([[0, 2.10, 1.45],\n",
        "[1, 1.18, 1.33],\n",
        "[0, 1.22, 1.27],\n",
        "[1, -0.21, -1.19]])\n",
        "# Create feature matrix with missing values in the categorical feature\n",
        "X_with_nan = np.array([[np.nan, 0.87, 1.31],\n",
        "[np.nan, -0.67, -0.22]])\n",
        "# Train KNN learner\n",
        "clf = KNeighborsClassifier(3, weights='distance')\n",
        "trained_model = clf.fit(X[:,1:], X[:,0])\n",
        "# Predict missing values' class\n",
        "imputed_values = trained_model.predict(X_with_nan[:,1:])\n",
        "# Join column of predicted class with their other features\n",
        "X_with_imputed = np.hstack((imputed_values.reshape(-1,1), X_with_nan[:,1:]))\n",
        "# Join two feature matrices\n",
        "np.vstack((X_with_imputed, X))"
      ],
      "metadata": {
        "colab": {
          "base_uri": "https://localhost:8080/"
        },
        "id": "duYDhmYNfKq5",
        "outputId": "c5de295a-103c-4b0d-b2b8-107febe241f2"
      },
      "execution_count": null,
      "outputs": [
        {
          "output_type": "execute_result",
          "data": {
            "text/plain": [
              "array([[ 0.  ,  0.87,  1.31],\n",
              "       [ 1.  , -0.67, -0.22],\n",
              "       [ 0.  ,  2.1 ,  1.45],\n",
              "       [ 1.  ,  1.18,  1.33],\n",
              "       [ 0.  ,  1.22,  1.27],\n",
              "       [ 1.  , -0.21, -1.19]])"
            ]
          },
          "metadata": {},
          "execution_count": 16
        }
      ]
    },
    {
      "cell_type": "code",
      "source": [
        "# Load libraries\n",
        "import numpy as np\n",
        "from sklearn.ensemble import RandomForestClassifier\n",
        "from sklearn.datasets import load_iris\n",
        "# Load iris data\n",
        "iris = load_iris()\n",
        "# Create feature matrix\n",
        "features = iris.data\n",
        "# Create target vector\n",
        "target = iris.target\n",
        "# Remove first 40 observations\n",
        "features = features[40:,:]\n",
        "target = target[40:]\n",
        "# Create binary target vector indicating if class 0\n",
        "target = np.where((target == 0), 0, 1)\n",
        "# Look at the imbalanced target vector\n",
        "target"
      ],
      "metadata": {
        "colab": {
          "base_uri": "https://localhost:8080/"
        },
        "id": "cfrHC6hjfOLF",
        "outputId": "bfa22e5e-cc9d-4ad6-893e-a8ae5b131b90"
      },
      "execution_count": null,
      "outputs": [
        {
          "output_type": "execute_result",
          "data": {
            "text/plain": [
              "array([0, 0, 0, 0, 0, 0, 0, 0, 0, 0, 1, 1, 1, 1, 1, 1, 1, 1, 1, 1, 1, 1,\n",
              "       1, 1, 1, 1, 1, 1, 1, 1, 1, 1, 1, 1, 1, 1, 1, 1, 1, 1, 1, 1, 1, 1,\n",
              "       1, 1, 1, 1, 1, 1, 1, 1, 1, 1, 1, 1, 1, 1, 1, 1, 1, 1, 1, 1, 1, 1,\n",
              "       1, 1, 1, 1, 1, 1, 1, 1, 1, 1, 1, 1, 1, 1, 1, 1, 1, 1, 1, 1, 1, 1,\n",
              "       1, 1, 1, 1, 1, 1, 1, 1, 1, 1, 1, 1, 1, 1, 1, 1, 1, 1, 1, 1, 1, 1])"
            ]
          },
          "metadata": {},
          "execution_count": 18
        }
      ]
    },
    {
      "cell_type": "code",
      "source": [
        "# Create weights\n",
        "weights = {0: .9, 1: 0.1}\n",
        "# Create random forest classifier with weights\n",
        "RandomForestClassifier(class_weight=weights)"
      ],
      "metadata": {
        "colab": {
          "base_uri": "https://localhost:8080/"
        },
        "id": "lB5aqQnPfQtj",
        "outputId": "900f8c6e-a400-40a1-86e5-0b7880e5693c"
      },
      "execution_count": null,
      "outputs": [
        {
          "output_type": "execute_result",
          "data": {
            "text/plain": [
              "RandomForestClassifier(class_weight={0: 0.9, 1: 0.1})"
            ]
          },
          "metadata": {},
          "execution_count": 19
        }
      ]
    },
    {
      "cell_type": "code",
      "source": [
        "# Create weights\n",
        "weights = {0: .9, 1: 0.1}\n",
        "# Create random forest classifier with weights\n",
        "RandomForestClassifier(class_weight=weights)"
      ],
      "metadata": {
        "colab": {
          "base_uri": "https://localhost:8080/"
        },
        "id": "0-103w94fd3F",
        "outputId": "fba75f2a-4835-428e-ff36-93d39487adfc"
      },
      "execution_count": null,
      "outputs": [
        {
          "output_type": "execute_result",
          "data": {
            "text/plain": [
              "RandomForestClassifier(class_weight={0: 0.9, 1: 0.1})"
            ]
          },
          "metadata": {},
          "execution_count": 20
        }
      ]
    },
    {
      "cell_type": "code",
      "source": [
        "# Indicies of each class' observations\n",
        "i_class0 = np.where(target == 0)[0]\n",
        "i_class1 = np.where(target == 1)[0]\n",
        "# Number of observations in each class\n",
        "n_class0 = len(i_class0)\n",
        "n_class1 = len(i_class1)\n",
        "# For every observation of class 0, randomly sample\n",
        "# from class 1 without replacement\n",
        "i_class1_downsampled = np.random.choice(i_class1, size=n_class0, replace=False)\n",
        "# Join together class 0's target vector with the\n",
        "# downsampled class 1's target vector\n",
        "np.hstack((target[i_class0], target[i_class1_downsampled]))"
      ],
      "metadata": {
        "colab": {
          "base_uri": "https://localhost:8080/"
        },
        "id": "OxUdkOrOfhJe",
        "outputId": "21ece1d5-757b-4f7d-8cd1-a2d63b51dea5"
      },
      "execution_count": null,
      "outputs": [
        {
          "output_type": "execute_result",
          "data": {
            "text/plain": [
              "array([0, 0, 0, 0, 0, 0, 0, 0, 0, 0, 1, 1, 1, 1, 1, 1, 1, 1, 1, 1])"
            ]
          },
          "metadata": {},
          "execution_count": 21
        }
      ]
    },
    {
      "cell_type": "code",
      "source": [
        "# Join together class 0's feature matrix with the\n",
        "# downsampled class 1's feature matrix\n",
        "np.vstack((features[i_class0,:], features[i_class1_downsampled,:]))[0:5]"
      ],
      "metadata": {
        "colab": {
          "base_uri": "https://localhost:8080/"
        },
        "id": "XaPmsNoofk55",
        "outputId": "119b1bad-2873-44f0-c415-01f5c504cf18"
      },
      "execution_count": null,
      "outputs": [
        {
          "output_type": "execute_result",
          "data": {
            "text/plain": [
              "array([[5. , 3.5, 1.3, 0.3],\n",
              "       [4.5, 2.3, 1.3, 0.3],\n",
              "       [4.4, 3.2, 1.3, 0.2],\n",
              "       [5. , 3.5, 1.6, 0.6],\n",
              "       [5.1, 3.8, 1.9, 0.4]])"
            ]
          },
          "metadata": {},
          "execution_count": 23
        }
      ]
    },
    {
      "cell_type": "code",
      "source": [
        "# For every observation in class 1, randomly sample from class 0 with replacement\n",
        "i_class0_upsampled = np.random.choice(i_class0, size=n_class1, replace=True)\n",
        "# Join together class 0's upsampled target vector with class 1's target vector\n",
        "np.concatenate((target[i_class0_upsampled], target[i_class1]))\n"
      ],
      "metadata": {
        "colab": {
          "base_uri": "https://localhost:8080/"
        },
        "id": "kBeHBvGyfnn-",
        "outputId": "400d6c00-feff-4ca5-d678-545dc7204933"
      },
      "execution_count": null,
      "outputs": [
        {
          "output_type": "execute_result",
          "data": {
            "text/plain": [
              "array([0, 0, 0, 0, 0, 0, 0, 0, 0, 0, 0, 0, 0, 0, 0, 0, 0, 0, 0, 0, 0, 0,\n",
              "       0, 0, 0, 0, 0, 0, 0, 0, 0, 0, 0, 0, 0, 0, 0, 0, 0, 0, 0, 0, 0, 0,\n",
              "       0, 0, 0, 0, 0, 0, 0, 0, 0, 0, 0, 0, 0, 0, 0, 0, 0, 0, 0, 0, 0, 0,\n",
              "       0, 0, 0, 0, 0, 0, 0, 0, 0, 0, 0, 0, 0, 0, 0, 0, 0, 0, 0, 0, 0, 0,\n",
              "       0, 0, 0, 0, 0, 0, 0, 0, 0, 0, 0, 0, 1, 1, 1, 1, 1, 1, 1, 1, 1, 1,\n",
              "       1, 1, 1, 1, 1, 1, 1, 1, 1, 1, 1, 1, 1, 1, 1, 1, 1, 1, 1, 1, 1, 1,\n",
              "       1, 1, 1, 1, 1, 1, 1, 1, 1, 1, 1, 1, 1, 1, 1, 1, 1, 1, 1, 1, 1, 1,\n",
              "       1, 1, 1, 1, 1, 1, 1, 1, 1, 1, 1, 1, 1, 1, 1, 1, 1, 1, 1, 1, 1, 1,\n",
              "       1, 1, 1, 1, 1, 1, 1, 1, 1, 1, 1, 1, 1, 1, 1, 1, 1, 1, 1, 1, 1, 1,\n",
              "       1, 1])"
            ]
          },
          "metadata": {},
          "execution_count": 24
        }
      ]
    },
    {
      "cell_type": "code",
      "source": [
        "# Join together class 0's upsampled feature matrix with class 1's feature matrix\n",
        "np.vstack((features[i_class0_upsampled,:], features[i_class1,:]))[0:5]"
      ],
      "metadata": {
        "colab": {
          "base_uri": "https://localhost:8080/"
        },
        "id": "eUR5WiM6fxnX",
        "outputId": "bcad0172-1bbb-4117-ea80-32e7bde147be"
      },
      "execution_count": null,
      "outputs": [
        {
          "output_type": "execute_result",
          "data": {
            "text/plain": [
              "array([[5. , 3.5, 1.3, 0.3],\n",
              "       [4.8, 3. , 1.4, 0.3],\n",
              "       [5. , 3.3, 1.4, 0.2],\n",
              "       [5. , 3.5, 1.3, 0.3],\n",
              "       [5. , 3.5, 1.6, 0.6]])"
            ]
          },
          "metadata": {},
          "execution_count": 25
        }
      ]
    },
    {
      "cell_type": "code",
      "source": [
        ""
      ],
      "metadata": {
        "id": "xsarAoKSf21Z"
      },
      "execution_count": null,
      "outputs": []
    },
    {
      "cell_type": "markdown",
      "source": [
        "chapter 6"
      ],
      "metadata": {
        "id": "ortbmvKKf4ad"
      }
    },
    {
      "cell_type": "code",
      "source": [
        "# Join together class 0's upsampled feature matrix with class 1's feature matrix\n",
        "np.vstack((features[i_class0_upsampled,:], features[i_class1,:]))[0:5]"
      ],
      "metadata": {
        "colab": {
          "base_uri": "https://localhost:8080/"
        },
        "id": "fPfdnoTVf6yd",
        "outputId": "1fbc74a6-bc67-4eef-cb5d-9e9e63e27dfc"
      },
      "execution_count": null,
      "outputs": [
        {
          "output_type": "execute_result",
          "data": {
            "text/plain": [
              "array([[5. , 3.5, 1.3, 0.3],\n",
              "       [4.8, 3. , 1.4, 0.3],\n",
              "       [5. , 3.3, 1.4, 0.2],\n",
              "       [5. , 3.5, 1.3, 0.3],\n",
              "       [5. , 3.5, 1.6, 0.6]])"
            ]
          },
          "metadata": {},
          "execution_count": 26
        }
      ]
    },
    {
      "cell_type": "code",
      "source": [
        "# Create function\n",
        "def capitalizer(string: str) -> str:\n",
        " return string.upper()"
      ],
      "metadata": {
        "id": "HIJCRPQLgALn"
      },
      "execution_count": null,
      "outputs": []
    },
    {
      "cell_type": "code",
      "source": [
        "# Import library\n",
        "import re\n",
        "# Create function\n",
        "def replace_letters_with_X(string: str) -> str:\n",
        " return re.sub(r\"[a-zA-Z]\", \"X\", string)\n"
      ],
      "metadata": {
        "id": "7dLkjZDugAsI"
      },
      "execution_count": null,
      "outputs": []
    },
    {
      "cell_type": "code",
      "source": [
        "# Load library\n",
        "from nltk.corpus import stopwords"
      ],
      "metadata": {
        "id": "NQdgYj7QgL0q"
      },
      "execution_count": null,
      "outputs": []
    },
    {
      "cell_type": "code",
      "source": [
        "# Create word tokens\n",
        "tokenized_words = ['i',\n",
        "'am',\n",
        "'going',\n",
        "'to',\n",
        "'go',\n",
        "'to',\n",
        "'the',\n",
        "'store',\n",
        "'and',\n",
        "'park']\n",
        "\n"
      ],
      "metadata": {
        "id": "Vck54BBfgbnw"
      },
      "execution_count": null,
      "outputs": []
    },
    {
      "cell_type": "code",
      "source": [
        ""
      ],
      "metadata": {
        "id": "f95pKEUWgeOq"
      },
      "execution_count": null,
      "outputs": []
    }
  ]
}